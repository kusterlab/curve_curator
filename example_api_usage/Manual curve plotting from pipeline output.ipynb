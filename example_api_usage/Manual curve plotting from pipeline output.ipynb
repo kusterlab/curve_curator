{
 "cells": [
  {
   "cell_type": "markdown",
   "id": "20b7d3f6",
   "metadata": {},
   "source": [
    "# Import packages"
   ]
  },
  {
   "cell_type": "code",
   "execution_count": 1,
   "id": "90e5cd7c",
   "metadata": {},
   "outputs": [],
   "source": [
    "import tomllib\n",
    "import numpy as np\n",
    "import pandas as pd\n",
    "from matplotlib import pyplot as plt"
   ]
  },
  {
   "cell_type": "code",
   "execution_count": 3,
   "id": "3e1b3449",
   "metadata": {},
   "outputs": [
    {
     "data": {
      "text/plain": [
       "'0.6.dev'"
      ]
     },
     "execution_count": 3,
     "metadata": {},
     "output_type": "execute_result"
    }
   ],
   "source": [
    "import curve_curator\n",
    "from curve_curator import models\n",
    "curve_curator.__version__"
   ]
  },
  {
   "cell_type": "markdown",
   "id": "efdd7a45",
   "metadata": {},
   "source": [
    "# Load the fitted data from curves.txt file using pandas"
   ]
  },
  {
   "cell_type": "code",
   "execution_count": 4,
   "id": "064fdd7b-435d-4964-9d34-ed330b9b5af2",
   "metadata": {},
   "outputs": [
    {
     "data": {
      "text/html": [
       "<div>\n",
       "<style scoped>\n",
       "    .dataframe tbody tr th:only-of-type {\n",
       "        vertical-align: middle;\n",
       "    }\n",
       "\n",
       "    .dataframe tbody tr th {\n",
       "        vertical-align: top;\n",
       "    }\n",
       "\n",
       "    .dataframe thead th {\n",
       "        text-align: right;\n",
       "    }\n",
       "</style>\n",
       "<table border=\"1\" class=\"dataframe\">\n",
       "  <thead>\n",
       "    <tr style=\"text-align: right;\">\n",
       "      <th></th>\n",
       "      <th>Modified sequence</th>\n",
       "      <th>N duplicates</th>\n",
       "      <th>Genes</th>\n",
       "      <th>Proteins</th>\n",
       "      <th>Score</th>\n",
       "      <th>Raw 1</th>\n",
       "      <th>Raw 2</th>\n",
       "      <th>Raw 3</th>\n",
       "      <th>Raw 4</th>\n",
       "      <th>Raw 5</th>\n",
       "      <th>...</th>\n",
       "      <th>Null Model</th>\n",
       "      <th>Null RMSE</th>\n",
       "      <th>Curve F_Value</th>\n",
       "      <th>Curve P_Value</th>\n",
       "      <th>Curve Log P_Value</th>\n",
       "      <th>Curve F_Value SAM Corrected</th>\n",
       "      <th>Curve Relevance Score</th>\n",
       "      <th>Curve Regulation</th>\n",
       "      <th>Decoy</th>\n",
       "      <th>Curve q_Value</th>\n",
       "    </tr>\n",
       "  </thead>\n",
       "  <tbody>\n",
       "    <tr>\n",
       "      <th>0</th>\n",
       "      <td>(ac)AAAAAAAAAAGAAGGRGS(ph)GPGR</td>\n",
       "      <td>2</td>\n",
       "      <td>PABPN1</td>\n",
       "      <td>Q86U42-2;Q86U42</td>\n",
       "      <td>113.780</td>\n",
       "      <td>53175.000</td>\n",
       "      <td>84204.0</td>\n",
       "      <td>77624.0</td>\n",
       "      <td>132371.0</td>\n",
       "      <td>85506.0</td>\n",
       "      <td>...</td>\n",
       "      <td>1.015718</td>\n",
       "      <td>0.122428</td>\n",
       "      <td>0.544793</td>\n",
       "      <td>0.817028</td>\n",
       "      <td>0.087763</td>\n",
       "      <td>0.145821</td>\n",
       "      <td>0.000215</td>\n",
       "      <td>NaN</td>\n",
       "      <td>False</td>\n",
       "      <td>0.826549</td>\n",
       "    </tr>\n",
       "    <tr>\n",
       "      <th>1</th>\n",
       "      <td>(ac)AAAAAAAGDS(ph)DSWDADAFSVEDPVRK</td>\n",
       "      <td>4</td>\n",
       "      <td>EIF3J</td>\n",
       "      <td>O75822-2;O75822-3;O75822</td>\n",
       "      <td>196.810</td>\n",
       "      <td>1390502.500</td>\n",
       "      <td>1917866.4</td>\n",
       "      <td>1793465.0</td>\n",
       "      <td>2782432.0</td>\n",
       "      <td>2428175.0</td>\n",
       "      <td>...</td>\n",
       "      <td>0.997955</td>\n",
       "      <td>0.046399</td>\n",
       "      <td>1.063936</td>\n",
       "      <td>0.515553</td>\n",
       "      <td>0.287727</td>\n",
       "      <td>0.066180</td>\n",
       "      <td>-0.000000</td>\n",
       "      <td>not</td>\n",
       "      <td>False</td>\n",
       "      <td>0.883979</td>\n",
       "    </tr>\n",
       "    <tr>\n",
       "      <th>2</th>\n",
       "      <td>(ac)AAAAAAAGDSDS(ph)WDADAFSVEDPVRK</td>\n",
       "      <td>1</td>\n",
       "      <td>EIF3J</td>\n",
       "      <td>O75822-2;O75822-3;O75822</td>\n",
       "      <td>103.630</td>\n",
       "      <td>15466.000</td>\n",
       "      <td>17080.0</td>\n",
       "      <td>15415.0</td>\n",
       "      <td>21662.0</td>\n",
       "      <td>20551.0</td>\n",
       "      <td>...</td>\n",
       "      <td>0.905875</td>\n",
       "      <td>0.169470</td>\n",
       "      <td>2.672817</td>\n",
       "      <td>0.143568</td>\n",
       "      <td>0.842943</td>\n",
       "      <td>0.834055</td>\n",
       "      <td>0.196692</td>\n",
       "      <td>NaN</td>\n",
       "      <td>False</td>\n",
       "      <td>0.507983</td>\n",
       "    </tr>\n",
       "    <tr>\n",
       "      <th>3</th>\n",
       "      <td>(ac)AAAAPDSRVS(ph)EEENLKK</td>\n",
       "      <td>1</td>\n",
       "      <td>RRP15</td>\n",
       "      <td>Q9Y3B9</td>\n",
       "      <td>92.492</td>\n",
       "      <td>199120.000</td>\n",
       "      <td>248650.0</td>\n",
       "      <td>325840.0</td>\n",
       "      <td>520420.0</td>\n",
       "      <td>406510.0</td>\n",
       "      <td>...</td>\n",
       "      <td>1.097047</td>\n",
       "      <td>0.156628</td>\n",
       "      <td>0.660940</td>\n",
       "      <td>0.741589</td>\n",
       "      <td>0.129836</td>\n",
       "      <td>0.179042</td>\n",
       "      <td>0.001529</td>\n",
       "      <td>NaN</td>\n",
       "      <td>False</td>\n",
       "      <td>0.819833</td>\n",
       "    </tr>\n",
       "    <tr>\n",
       "      <th>4</th>\n",
       "      <td>(ac)AAAITDMADLEELSRLS(ph)PLPPGS(ph)PGSAAR</td>\n",
       "      <td>2</td>\n",
       "      <td>AEBP2</td>\n",
       "      <td>Q6ZN18-2;Q6ZN18</td>\n",
       "      <td>142.270</td>\n",
       "      <td>6329.655</td>\n",
       "      <td>7332.3</td>\n",
       "      <td>8287.5</td>\n",
       "      <td>11162.4</td>\n",
       "      <td>7860.1</td>\n",
       "      <td>...</td>\n",
       "      <td>1.393061</td>\n",
       "      <td>0.214934</td>\n",
       "      <td>1.579171</td>\n",
       "      <td>0.327465</td>\n",
       "      <td>0.484836</td>\n",
       "      <td>0.104195</td>\n",
       "      <td>-0.000000</td>\n",
       "      <td>NaN</td>\n",
       "      <td>False</td>\n",
       "      <td>0.850875</td>\n",
       "    </tr>\n",
       "  </tbody>\n",
       "</table>\n",
       "<p>5 rows × 61 columns</p>\n",
       "</div>"
      ],
      "text/plain": [
       "                           Modified sequence  N duplicates   Genes  \\\n",
       "0             (ac)AAAAAAAAAAGAAGGRGS(ph)GPGR             2  PABPN1   \n",
       "1         (ac)AAAAAAAGDS(ph)DSWDADAFSVEDPVRK             4   EIF3J   \n",
       "2         (ac)AAAAAAAGDSDS(ph)WDADAFSVEDPVRK             1   EIF3J   \n",
       "3                  (ac)AAAAPDSRVS(ph)EEENLKK             1   RRP15   \n",
       "4  (ac)AAAITDMADLEELSRLS(ph)PLPPGS(ph)PGSAAR             2   AEBP2   \n",
       "\n",
       "                   Proteins    Score        Raw 1      Raw 2      Raw 3  \\\n",
       "0           Q86U42-2;Q86U42  113.780    53175.000    84204.0    77624.0   \n",
       "1  O75822-2;O75822-3;O75822  196.810  1390502.500  1917866.4  1793465.0   \n",
       "2  O75822-2;O75822-3;O75822  103.630    15466.000    17080.0    15415.0   \n",
       "3                    Q9Y3B9   92.492   199120.000   248650.0   325840.0   \n",
       "4           Q6ZN18-2;Q6ZN18  142.270     6329.655     7332.3     8287.5   \n",
       "\n",
       "       Raw 4      Raw 5  ...  Null Model  Null RMSE  Curve F_Value  \\\n",
       "0   132371.0    85506.0  ...    1.015718   0.122428       0.544793   \n",
       "1  2782432.0  2428175.0  ...    0.997955   0.046399       1.063936   \n",
       "2    21662.0    20551.0  ...    0.905875   0.169470       2.672817   \n",
       "3   520420.0   406510.0  ...    1.097047   0.156628       0.660940   \n",
       "4    11162.4     7860.1  ...    1.393061   0.214934       1.579171   \n",
       "\n",
       "   Curve P_Value  Curve Log P_Value Curve F_Value SAM Corrected  \\\n",
       "0       0.817028           0.087763                    0.145821   \n",
       "1       0.515553           0.287727                    0.066180   \n",
       "2       0.143568           0.842943                    0.834055   \n",
       "3       0.741589           0.129836                    0.179042   \n",
       "4       0.327465           0.484836                    0.104195   \n",
       "\n",
       "   Curve Relevance Score Curve Regulation  Decoy  Curve q_Value  \n",
       "0               0.000215              NaN  False       0.826549  \n",
       "1              -0.000000              not  False       0.883979  \n",
       "2               0.196692              NaN  False       0.507983  \n",
       "3               0.001529              NaN  False       0.819833  \n",
       "4              -0.000000              NaN  False       0.850875  \n",
       "\n",
       "[5 rows x 61 columns]"
      ]
     },
     "execution_count": 4,
     "metadata": {},
     "output_type": "execute_result"
    }
   ],
   "source": [
    "# Load curves.txt file\n",
    "example_dataset = '../example_datasets/decryptM_Dasatinib/curves.txt'\n",
    "curves_df = pd.read_csv(example_dataset, sep='\\t')\n",
    "curves_df.head()"
   ]
  },
  {
   "cell_type": "markdown",
   "id": "57fb0899-2e11-4e2b-83ea-7848bfe39b25",
   "metadata": {},
   "source": [
    "# Define experiment specific values manually or from the toml file automatically\n",
    "\n",
    "#### Manual:"
   ]
  },
  {
   "cell_type": "code",
   "execution_count": 5,
   "id": "0946b9b0-7870-4199-9fd3-92e0bac08ac8",
   "metadata": {},
   "outputs": [],
   "source": [
    "# define columns from the curves file \n",
    "experiments = [1, 2, 3, 4, 5, 6, 7, 8, 9]  # all expeimrent names that are not zero.\n",
    "ratio_cols = [f'Ratio {name}' for name in experiments]\n",
    "\n",
    "# X data in nM (1e-9) is converted in log10 space. All doses that are not zero.\n",
    "x = np.log10([100.0, 30.0, 10.0, 3.0, 1.0, 0.3, 0.1, 0.03, 0.01]) - 9 "
   ]
  },
  {
   "cell_type": "markdown",
   "id": "1724c716-6095-41f1-9601-006867dfbed4",
   "metadata": {},
   "source": [
    "#### From toml:"
   ]
  },
  {
   "cell_type": "code",
   "execution_count": 6,
   "id": "84006fe7-b0fb-447f-85ba-6d6cd876385d",
   "metadata": {},
   "outputs": [
    {
     "name": "stderr",
     "output_type": "stream",
     "text": [
      "/var/folders/pl/nnvf0lxx2gg0d0lsc79pc4k00000gn/T/ipykernel_97936/2895192602.py:7: RuntimeWarning: divide by zero encountered in log10\n",
      "  x = np.log10(np.array(config['Experiment']['doses']) * float(config['Experiment']['dose_scale']))\n"
     ]
    }
   ],
   "source": [
    "# Load toml file parameters\n",
    "example_dataset_toml = '../example_datasets/decryptM_Dasatinib/parameters.toml'\n",
    "config = tomllib.load(open(example_dataset_toml, \"rb\"))\n",
    "\n",
    "# load experiment information\n",
    "experiments = np.array(config['Experiment']['experiments'])\n",
    "x = np.log10(np.array(config['Experiment']['doses']) * float(config['Experiment']['dose_scale']))\n",
    "assert len(x) == len(experiments)\n",
    "\n",
    "# filter for valid concentrations\n",
    "zero_mask = np.isfinite(x)\n",
    "experiments = experiments[zero_mask]\n",
    "x = x[zero_mask]\n",
    "\n",
    "# define ratio columns\n",
    "ratio_cols = [f'Ratio {name}' for name in experiments]"
   ]
  },
  {
   "cell_type": "markdown",
   "id": "1b0847bd-c983-4cbe-a279-9d48bc44134a",
   "metadata": {},
   "source": [
    "# Create CurveCurator models with fitted parameters\n",
    "\n",
    "models.LogisticModel is the 4-parameter logistic modle object. It can be loaded with parameters: ['pEC50', 'Curve Slope', 'Curve Front', 'Curve Back']\n",
    "\n",
    "models.MeanModel is the mean modle object and should be used for not curves. It can be loaded with parameters: ['Null Model']"
   ]
  },
  {
   "cell_type": "code",
   "execution_count": 7,
   "id": "2d5a7634-d6a2-4a1b-9dc0-ed193c0e7421",
   "metadata": {},
   "outputs": [
    {
     "name": "stdout",
     "output_type": "stream",
     "text": [
      "LogisticModel({'pec50': 8.287124284686435, 'slope': 3.4680985043562456, 'front': 1.076561638042248, 'back': 0.0102824411574259})\n",
      "MeanModel({'intercept': 0.7522487392283652})\n"
     ]
    }
   ],
   "source": [
    "# columns from the curves.txt file with the relevant information\n",
    "param_lm_cols = ['pEC50', 'Curve Slope', 'Curve Front', 'Curve Back']\n",
    "param_mm_cols = ['Null Model']\n",
    "\n",
    "# select a specific curve: get the experimental y ratio valuesand get the fitted parameters of the logistic and mean model\n",
    "mod_seq = 'ELFDDPSY(ph)VNVQNLDK'\n",
    "curve_mask = (curves_df['Modified sequence'] == mod_seq)\n",
    "y = curves_df.loc[curve_mask, ratio_cols].iloc[0].values\n",
    "params_lm = curves_df.loc[curve_mask, param_lm_cols].iloc[0].values\n",
    "params_mm = curves_df.loc[curve_mask, param_mm_cols].iloc[0].values\n",
    "\n",
    "# load curve curator models with fitted params\n",
    "LM = models.LogisticModel(*params_lm)\n",
    "print(LM)\n",
    "\n",
    "MM = models.MeanModel(*params_mm)\n",
    "print(MM)"
   ]
  },
  {
   "cell_type": "markdown",
   "id": "4525324d-2973-46a8-a931-5924ab1fc885",
   "metadata": {},
   "source": [
    "# Plot a dose-response curve with data points and fitted model"
   ]
  },
  {
   "cell_type": "code",
   "execution_count": 8,
   "id": "f7d3d787-29ca-4cfc-bbfe-dacfde35dcdd",
   "metadata": {},
   "outputs": [
    {
     "data": {
      "image/png": "[encoded data removed]",
      "text/plain": [
       "<Figure size 640x480 with 1 Axes>"
      ]
     },
     "metadata": {},
     "output_type": "display_data"
    }
   ],
   "source": [
    "# Automatically define x values for the model from experimental drug range\n",
    "line_x = np.linspace(min(x) - .5, max(x) + .5, 1000)\n",
    "\n",
    "# Predict y values based on regressed model.\n",
    "# For significant curves use the Logistic model. \n",
    "# For not curves we typically report the MeanModel as constant line.\n",
    "line_y = LM(line_x)\n",
    "#line_y = MM(line_x)\n",
    "\n",
    "# plot with matplotlib\n",
    "plt.plot(line_x, line_y, color='red', zorder=1) \n",
    "plt.scatter(x, y, color='black', zorder=2)\n",
    "plt.xlabel('Log10 Concentration [M]')\n",
    "plt.ylabel('Relative Response')\n",
    "plt.ylim(0, None)\n",
    "plt.title(mod_seq)\n",
    "plt.tight_layout()\n",
    "plt.savefig('./my_curve.pdf', transparent=True)\n",
    "plt.show()\n",
    "plt.close()"
   ]
  },
  {
   "cell_type": "code",
   "execution_count": null,
   "id": "241866ad-65d1-4281-997b-baf49fc447e5",
   "metadata": {},
   "outputs": [],
   "source": []
  }
 ],
 "metadata": {
  "kernelspec": {
   "display_name": "Python [conda env:curve_curator2] *",
   "language": "python",
   "name": "conda-env-curve_curator2-py"
  },
  "language_info": {
   "codemirror_mode": {
    "name": "ipython",
    "version": 3
   },
   "file_extension": ".py",
   "mimetype": "text/x-python",
   "name": "python",
   "nbconvert_exporter": "python",
   "pygments_lexer": "ipython3",
   "version": "3.12.0"
  }
 },
 "nbformat": 4,
 "nbformat_minor": 5
}
